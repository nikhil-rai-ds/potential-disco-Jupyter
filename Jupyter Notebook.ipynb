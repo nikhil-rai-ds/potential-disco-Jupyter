{
 "cells": [
  {
   "cell_type": "markdown",
   "id": "0a67c4fb-df10-4e03-a2da-df22d1341606",
   "metadata": {},
   "source": []
  },
  {
   "cell_type": "code",
   "execution_count": 3,
   "id": "a900f4c8-07d1-47d0-8de2-0db7f3c051da",
   "metadata": {},
   "outputs": [
    {
     "name": "stdout",
     "output_type": "stream",
     "text": [
      "The purpose od this notebook is to involve one into its documentation, Happy Binge Learning!!\n"
     ]
    }
   ],
   "source": [
    "print(\"The purpose od this notebook is to involve one into its documentation, Happy Binge Learning!!\")"
   ]
  },
  {
   "cell_type": "code",
   "execution_count": 5,
   "id": "15d9a3d5-6f50-45e6-abde-3d58088a0a7f",
   "metadata": {},
   "outputs": [
    {
     "name": "stdout",
     "output_type": "stream",
     "text": [
      "Successfully added this notebook to the jupyter\n"
     ]
    }
   ],
   "source": [
    "print(\"Successfully added this notebook to the jupyter\")"
   ]
  },
  {
   "cell_type": "markdown",
   "id": "2948729c-3da5-4a8d-ae9e-6f53f2d59e35",
   "metadata": {},
   "source": [
    "<h1> Arbitarary HTML code heading </h1>\n",
    "<p> Adding a pragraph too</p>\n",
    "<b>Making  things bold</b>\n",
    "<a alt = 'atltext' href = 'www.google.com' > The link</a>m"
   ]
  },
  {
   "cell_type": "markdown",
   "id": "2113c8aa-3a04-44cb-8fc9-72400c8596f0",
   "metadata": {},
   "source": [
    "This is an inline math example: $E = mc^2$"
   ]
  },
  {
   "cell_type": "code",
   "execution_count": null,
   "id": "190d8418-e363-4085-9a4e-d67242c7e7fc",
   "metadata": {},
   "outputs": [],
   "source": []
  }
 ],
 "metadata": {
  "kernelspec": {
   "display_name": "Python 3 (ipykernel)",
   "language": "python",
   "name": "python3"
  },
  "language_info": {
   "codemirror_mode": {
    "name": "ipython",
    "version": 3
   },
   "file_extension": ".py",
   "mimetype": "text/x-python",
   "name": "python",
   "nbconvert_exporter": "python",
   "pygments_lexer": "ipython3",
   "version": "3.11.7"
  }
 },
 "nbformat": 4,
 "nbformat_minor": 5
}
